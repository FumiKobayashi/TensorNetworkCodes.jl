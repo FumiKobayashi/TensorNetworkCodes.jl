{
 "cells": [
  {
   "cell_type": "markdown",
   "metadata": {},
   "source": [
    "# Code types\n",
    "\n",
    "This has a few different code types."
   ]
  },
  {
   "cell_type": "code",
   "execution_count": 1,
   "metadata": {},
   "outputs": [
    {
     "data": {
      "text/plain": [
       "SimpleCode"
      ]
     },
     "execution_count": 1,
     "metadata": {},
     "output_type": "execute_result"
    }
   ],
   "source": [
    "\"\"\"\n",
    "Abstract type for quantum error correcting codes.\n",
    "\"\"\"\n",
    "abstract type QuantumCode\n",
    "#     should have at least these attributes:\n",
    "#     stabilizers::Array{Array{Int64,1},1}\n",
    "#     logicals::Array{Array{Int64,1},1}\n",
    "#     pure_errors::Array{Array{Int64,1},1}\n",
    "end\n",
    "\n",
    "\n",
    "\n",
    "\n",
    "\n",
    "\"\"\"\n",
    "Type for simple quantum error correcting codes,\n",
    "where we don't care about physical qubit layout.\n",
    "\"\"\"\n",
    "struct SimpleCode <: QuantumCode\n",
    "    name::String\n",
    "    stabilizers::Array{Array{Int64,1},1}\n",
    "    logicals::Array{Array{Int64,1},1}\n",
    "    pure_errors::Array{Array{Int64,1},1}\n",
    "end\n",
    "\n",
    "\n",
    "\n",
    "SimpleCode() = SimpleCode(\n",
    "    \"\",\n",
    "    Array{Int64,1}[],\n",
    "    Array{Int64,1}[],\n",
    "    Array{Int64,1}[])"
   ]
  },
  {
   "cell_type": "markdown",
   "metadata": {},
   "source": [
    "## Initialize some useful codes\n",
    "**Warning:** current pure errors do not necessarily commute with logicals"
   ]
  },
  {
   "cell_type": "code",
   "execution_count": 2,
   "metadata": {},
   "outputs": [],
   "source": [
    "# X Repitition code\n",
    "x_repitition = SimpleCode(\"X repitition code\",[[3,3,0],[0,3,3]],[],[])\n",
    "push!(x_repitition.logicals,[1,1,1])\n",
    "push!(x_repitition.logicals,[3,0,0])\n",
    "push!(x_repitition.pure_errors,[1,0,0])\n",
    "push!(x_repitition.pure_errors,[0,0,1])\n",
    "\n",
    "\n",
    "#\n",
    "x_repitition_zero = SimpleCode(\"X repitition code\",[[3,3,0],[0,3,3],[1,1,1]],[],\n",
    "[[1,0,0],[0,0,1],[3,0,0]])\n",
    "\n",
    "\n",
    "# Z Repitition code\n",
    "z_repitition = SimpleCode(\"Z repitition code\",[[1,1,0],[0,1,1]],[],[])\n",
    "push!(z_repitition.logicals,[1,0,0])\n",
    "push!(z_repitition.logicals,[3,3,3])\n",
    "push!(z_repitition.pure_errors,[3,0,0])\n",
    "push!(z_repitition.pure_errors,[0,0,3])\n",
    "\n",
    "\n",
    "# \n",
    "z_repitition_zero = SimpleCode(\"Z repitition code\",[[1,1,0],[0,1,1],[3,3,3]],[],\n",
    "[[3,0,0],[0,0,3],[1,0,0]])\n",
    "\n",
    "\n",
    "# Five-qubit code\n",
    "five_qubit = SimpleCode(\"Five qubit code\",\n",
    "[[1,3,3,1,0],[0,1,3,3,1],[1,0,1,3,3],[3,1,0,1,3]],\n",
    "[[1,1,1,1,1],[3,3,3,3,3]],\n",
    "[[0,1,0,0,0],[0,0,0,0,3],[0,0,3,0,0],[1,0,0,0,0]])\n",
    "\n",
    "\n",
    "# Five-qubit code - no logical\n",
    "z_five_qubit = SimpleCode(\"Five qubit code with logical Z as a stabilizer\",\n",
    "[[1,3,3,1,0],[0,1,3,3,1],[1,0,1,3,3],[3,1,0,1,3],[3,3,3,3,3]],\n",
    "[], [])\n",
    "\n",
    "# Five-qubit code - no logical\n",
    "x_five_qubit = SimpleCode(\"Five qubit code with logical X as a stabilizer\",\n",
    "[[1,3,3,1,0],[0,1,3,3,1],[1,0,1,3,3],[3,1,0,1,3],[1,1,1,1,1]],\n",
    "[],[])\n",
    "\n",
    "# Purified five-qubit code\n",
    "pure_five_qubit = SimpleCode(\"Purified five qubit code\",\n",
    "[[0,1,3,3,1,0],[0,0,1,3,3,1],[0,1,0,1,3,3],[0,3,1,0,1,3],\n",
    "[1,1,1,1,1,1],[3,3,3,3,3,3]],[],[])\n",
    "\n",
    "# Small surface code\n",
    "small_surface = SimpleCode(\"Small surface code\",\n",
    "[[1,1,1,0,0],[0,0,1,1,1],[3,0,3,3,0],[0,3,3,0,3]],\n",
    "[[1,0,0,1,0],[3,3,0,0,0]],\n",
    "[[3, 0, 0, 0, 0],[0, 0, 0, 3, 0],[1, 0, 0, 0, 0],[0, 1, 0, 0, 0]]);\n",
    "\n",
    "# Small surface code with logical X as a stabilizer\n",
    "x_small_surface = SimpleCode(\"X surface\",\n",
    "[[1,1,1,0,0],[0,0,1,1,1],[3,0,3,3,0],[0,3,3,0,3],[1,0,0,1,0]],\n",
    "[],[]);\n",
    "\n",
    "# Small surface code with logical Z as a stabilizer\n",
    "z_small_surface = SimpleCode(\"Z surface\",\n",
    "[[1,1,1,0,0],[0,0,1,1,1],[3,0,3,3,0],[0,3,3,0,3],[3,3,0,0,0]],\n",
    "[],[]);\n",
    "\n",
    "\n",
    "# Steane\n",
    "steane = SimpleCode(\"Steane code\",\n",
    "[[1,0,0,1,0,1,1],[0,1,0,1,1,0,1],[0,0,1,0,1,1,1],\n",
    "        [3,0,0,3,0,3,3],[0,3,0,3,3,0,3],[0,0,3,0,3,3,3]],\n",
    "[[1,1,1,1,1,1,1],[3,3,3,3,3,3,3]],\n",
    "    [[3,0,0,0,0,0,0],[0,3,0,0,0,0,0],[0,0,3,0,0,0,0],\n",
    "        [1,0,0,0,0,0,0],[0,1,0,0,0,0,0],[0,0,1,0,0,0,0]]\n",
    "    );\n",
    "\n",
    "\n",
    "\n",
    "\n",
    "code_dict = Dict{String,QuantumCode}()\n",
    "code_dict[\"Steane code\"] = steane\n",
    "code_dict[\"Five qubit code\"] = five_qubit;"
   ]
  },
  {
   "cell_type": "markdown",
   "metadata": {},
   "source": [
    "## Testing"
   ]
  },
  {
   "cell_type": "code",
   "execution_count": 4,
   "metadata": {},
   "outputs": [
    {
     "data": {
      "text/plain": [
       "true"
      ]
     },
     "execution_count": 4,
     "metadata": {},
     "output_type": "execute_result"
    }
   ],
   "source": [
    "# using NBInclude\n",
    "# @nbinclude(\"Code_functions_advanced.ipynb\")\n",
    "\n",
    "\n",
    "# verify_code(steane)"
   ]
  },
  {
   "cell_type": "code",
   "execution_count": null,
   "metadata": {},
   "outputs": [],
   "source": []
  }
 ],
 "metadata": {
  "@webio": {
   "lastCommId": null,
   "lastKernelId": null
  },
  "kernelspec": {
   "display_name": "Julia 1.6.1",
   "language": "julia",
   "name": "julia-1.6"
  },
  "language_info": {
   "file_extension": ".jl",
   "mimetype": "application/julia",
   "name": "julia",
   "version": "1.6.1"
  }
 },
 "nbformat": 4,
 "nbformat_minor": 2
}
