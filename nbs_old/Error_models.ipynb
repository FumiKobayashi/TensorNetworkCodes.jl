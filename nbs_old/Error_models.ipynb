{
 "cells": [
  {
   "cell_type": "code",
   "execution_count": 18,
   "metadata": {},
   "outputs": [
    {
     "data": {
      "text/plain": [
       "random_pauli_error (generic function with 2 methods)"
      ]
     },
     "execution_count": 18,
     "metadata": {},
     "output_type": "execute_result"
    }
   ],
   "source": [
    "import StatsBase\n",
    "using Random\n",
    "\n",
    "\n",
    "\n",
    "\n",
    "\n",
    "function random_pauli_error(n::Int64,error_prob::Float64,seed::Int64)\n",
    "    rng = MersenneTwister(seed)\n",
    "    values = [0, 1, 2, 3]\n",
    "\n",
    "    probabilities = [1-error_prob, error_prob/3, error_prob/3, error_prob/3]\n",
    "    w = StatsBase.Weights(probabilities)\n",
    "    return [StatsBase.sample(rng,values,w) for α in 1:n]\n",
    "end\n",
    "\n",
    "\n",
    "\n",
    "function random_pauli_error(n::Int64,error_prob::Float64)\n",
    "    rng = RandomDevice()\n",
    "    values = [0, 1, 2, 3]\n",
    "\n",
    "    probabilities = [1-error_prob, error_prob/3, error_prob/3, error_prob/3]\n",
    "    w = StatsBase.Weights(probabilities)\n",
    "    return [StatsBase.sample(rng,values,w) for α in 1:n]\n",
    "end"
   ]
  },
  {
   "cell_type": "markdown",
   "metadata": {},
   "source": [
    "## Testing"
   ]
  },
  {
   "cell_type": "code",
   "execution_count": 17,
   "metadata": {},
   "outputs": [],
   "source": [
    "# random_pauli_error(4,0.25,920292)"
   ]
  },
  {
   "cell_type": "code",
   "execution_count": 16,
   "metadata": {},
   "outputs": [],
   "source": [
    "# random_pauli_error(4,0.25)"
   ]
  },
  {
   "cell_type": "code",
   "execution_count": null,
   "metadata": {},
   "outputs": [],
   "source": []
  }
 ],
 "metadata": {
  "kernelspec": {
   "display_name": "Julia 1.6.1",
   "language": "julia",
   "name": "julia-1.6"
  },
  "language_info": {
   "file_extension": ".jl",
   "mimetype": "application/julia",
   "name": "julia",
   "version": "1.6.1"
  }
 },
 "nbformat": 4,
 "nbformat_minor": 2
}
