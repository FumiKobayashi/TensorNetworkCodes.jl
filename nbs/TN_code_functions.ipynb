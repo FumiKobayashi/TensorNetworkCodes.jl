{
 "cells": [
  {
   "cell_type": "markdown",
   "metadata": {},
   "source": [
    "## Useful functions for  `TNCodes`"
   ]
  },
  {
   "cell_type": "code",
   "execution_count": 4,
   "metadata": {},
   "outputs": [
    {
     "data": {
      "text/plain": [
       "gauge_code (generic function with 2 methods)"
      ]
     },
     "execution_count": 4,
     "metadata": {},
     "output_type": "execute_result"
    }
   ],
   "source": [
    "using ITensors\n",
    "using NBInclude\n",
    "@nbinclude(\"TN_code_types.ipynb\")\n",
    "@nbinclude(\"Code_functions_advanced.ipynb\")\n",
    "\n",
    "\n",
    "\n",
    "\n",
    "\n",
    "\"\"\"\n",
    "    code_to_tensor(code)\n",
    "\n",
    "Returns a tensor (array) describing the logical cosets of the code.\n",
    "\"\"\"\n",
    "function code_to_tensor(code::QuantumCode)\n",
    "    \n",
    "    alt_code = purify_code(code)\n",
    "    n = size(alt_code)\n",
    "    g = alt_code.stabilizers\n",
    "    \n",
    "    dims = fill(4,n)\n",
    "    tensor = zeros(Float64,dims...)\n",
    "    \n",
    "    for α in 0:2^n-1\n",
    "        powers = digits!(zeros(Int64,n),α,base = 2)\n",
    "        operator = product_with_powers(g,powers)        \n",
    "        operator = operator .+ 1      \n",
    "\n",
    "        index = CartesianIndex(operator...)\n",
    "        tensor[index] = 1        \n",
    "    end\n",
    "    \n",
    "    return tensor   \n",
    "end\n",
    "\n",
    "\n",
    "\n",
    "\n",
    "\n",
    "\"\"\"\n",
    "    code_to_Itensor(code,indices)\n",
    "\n",
    "Returns an `ITensor` with indices describing the logical cosets of the code.\n",
    "\"\"\"\n",
    "function code_to_Itensor(code::QuantumCode,\n",
    "        logical_indices::Array{Index{Int64},1},\n",
    "        physical_indices::Array{Index{Int64},1})\n",
    "\n",
    "    n = size(code)\n",
    "    K = length(code.logicals)\n",
    "    if K/2 != length(logical_indices) || n != length(physical_indices)\n",
    "        error(\"incorrect number of indices!\")\n",
    "    end\n",
    "    \n",
    "    tensor = code_to_tensor(code)\n",
    "    indices = vcat(logical_indices,physical_indices)\n",
    "    \n",
    "    return ITensor(tensor,indices...) \n",
    "end\n",
    "\n",
    "\n",
    "\n",
    "\n",
    "\n",
    "\"\"\"\n",
    "    identity_coset(tensor)\n",
    "\n",
    "Given an `ITensor` descibing a code, return the `ITensor` describing\n",
    "only the identity coset, i.e., the stabilizer group.\n",
    "\"\"\"\n",
    "function identity_coset(tensor::ITensor)\n",
    "    indices = inds(tensor)\n",
    "    logical_indices = [χ for χ in indices if hastags(χ,\"logical\")]\n",
    "    \n",
    "    for index in logical_indices\n",
    "        ρ = ITensor(index)\n",
    "        ρ[index => 1] = 1\n",
    "        tensor = tensor * ρ\n",
    "    end\n",
    "    \n",
    "    return tensor\n",
    "end\n",
    "\n",
    "\n",
    "\n",
    "\n",
    "            \n",
    "\"\"\"\n",
    "    all_cosets(tensor)\n",
    "\n",
    "Given an `ITensor` descibing a code, return the `ITensor` describing\n",
    "all the cosets by summing over all logical indices.\n",
    "\"\"\"\n",
    "function all_cosets(tensor::ITensor)\n",
    "    indices = inds(tensor)\n",
    "    logical_indices = [χ for χ in indices if hastags(χ,\"logical\")]\n",
    "    \n",
    "    for index in logical_indices\n",
    "        ρ = ITensor(ones(dim(index)),index)\n",
    "        tensor = tensor * ρ\n",
    "    end\n",
    "    \n",
    "    return tensor\n",
    "end\n",
    "\n",
    "       \n",
    "                        \n",
    "                        \n",
    "                        \n",
    "# Extends the method for `SimpleCodes`.                    \n",
    "function gauge_code(\n",
    "        code::TNCode,\n",
    "        logical_power_list::Array{Array{Int64,1},1},\n",
    "        which_logicals::Array{Int64,1})\n",
    "    \n",
    "    new_code = SimpleCode(code)\n",
    "    new_code = gauge_code(\n",
    "        new_code,\n",
    "        logical_power_list,\n",
    "        which_logicals)\n",
    "    \n",
    "    return TNCode(\n",
    "        new_code,\n",
    "        code.code_graph,\n",
    "        code.seed_codes)\n",
    "end"
   ]
  },
  {
   "cell_type": "markdown",
   "metadata": {},
   "source": [
    "## Testing"
   ]
  },
  {
   "cell_type": "code",
   "execution_count": 18,
   "metadata": {},
   "outputs": [],
   "source": [
    "# T = code_to_Itensor(five_qubit,\n",
    "#         [Index(4,\"logical\")],\n",
    "#         [Index(4,\"physical\") for _ in 1:5])\n",
    "\n",
    "# A = array(T)\n",
    "\n",
    "# # size of stabilizer group should be 2^4\n",
    "# 2^4 == sum(A[1,:,:,:,:,:])"
   ]
  },
  {
   "cell_type": "code",
   "execution_count": 19,
   "metadata": {
    "scrolled": false
   },
   "outputs": [],
   "source": [
    "# @time T_steane = code_to_Itensor(steane,\n",
    "#         [Index(4,\"logical\")],\n",
    "#         [Index(4,\"physical\") for _ in 1:7])\n",
    "\n",
    "# All = all_cosets(T_steane)\n",
    "\n",
    "# # number of elements in all cosets should be 2^8 (= num stabilizers x num logicals)\n",
    "# 2^8 == sum(All)"
   ]
  },
  {
   "cell_type": "code",
   "execution_count": null,
   "metadata": {},
   "outputs": [],
   "source": []
  }
 ],
 "metadata": {
  "@webio": {
   "lastCommId": null,
   "lastKernelId": null
  },
  "kernelspec": {
   "display_name": "Julia 1.6.1",
   "language": "julia",
   "name": "julia-1.6"
  },
  "language_info": {
   "file_extension": ".jl",
   "mimetype": "application/julia",
   "name": "julia",
   "version": "1.6.1"
  }
 },
 "nbformat": 4,
 "nbformat_minor": 2
}
