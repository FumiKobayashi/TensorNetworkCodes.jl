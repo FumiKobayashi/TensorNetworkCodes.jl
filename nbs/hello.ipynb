{
 "cells": [
  {
   "cell_type": "markdown",
   "id": "98bf6080-8c9a-459c-ae7c-534754c1dcc3",
   "metadata": {},
   "source": [
    "# Example notebook"
   ]
  },
  {
   "cell_type": "code",
   "execution_count": 1,
   "id": "57ea81cc-ff59-490f-81dd-1e56562d3b1e",
   "metadata": {},
   "outputs": [],
   "source": [
    "using TensorNetworkCodes"
   ]
  },
  {
   "cell_type": "code",
   "execution_count": 2,
   "id": "5ebecf41-fa15-407d-8b3e-a56e1ffe9ec7",
   "metadata": {},
   "outputs": [
    {
     "data": {
      "text/plain": [
       "\"Hello fella\""
      ]
     },
     "execution_count": 2,
     "metadata": {},
     "output_type": "execute_result"
    }
   ],
   "source": [
    "hello(\"fella\")"
   ]
  },
  {
   "cell_type": "code",
   "execution_count": 3,
   "id": "706ecf40-5511-43ce-aeae-bd3ee7431809",
   "metadata": {},
   "outputs": [],
   "source": [
    "using Qecsim.BasicModels"
   ]
  },
  {
   "cell_type": "code",
   "execution_count": 4,
   "id": "ca87ce65-50a5-4349-827c-5793e34d957f",
   "metadata": {},
   "outputs": [
    {
     "data": {
      "text/plain": [
       "\"Hello 5-qubit code\""
      ]
     },
     "execution_count": 4,
     "metadata": {},
     "output_type": "execute_result"
    }
   ],
   "source": [
    "hello(FiveQubitCode())"
   ]
  },
  {
   "cell_type": "code",
   "execution_count": null,
   "id": "14910415-d0c3-4858-ae54-2af8ba20f9aa",
   "metadata": {},
   "outputs": [],
   "source": []
  }
 ],
 "metadata": {
  "kernelspec": {
   "display_name": "Julia 1.6.2",
   "language": "julia",
   "name": "julia-1.6"
  },
  "language_info": {
   "file_extension": ".jl",
   "mimetype": "application/julia",
   "name": "julia",
   "version": "1.6.2"
  }
 },
 "nbformat": 4,
 "nbformat_minor": 5
}
